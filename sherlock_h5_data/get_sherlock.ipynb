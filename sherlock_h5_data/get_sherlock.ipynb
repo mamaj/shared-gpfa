{
 "cells": [
  {
   "cell_type": "code",
   "execution_count": 6,
   "metadata": {},
   "outputs": [],
   "source": [
    "import deepdish as dd\n",
    "import os\n",
    "import numpy as np"
   ]
  },
  {
   "cell_type": "code",
   "execution_count": 3,
   "metadata": {},
   "outputs": [
    {
     "name": "stdout",
     "output_type": "stream",
     "text": [
      "wget: /opt/quarantine/miniconda3/4.4.0/build/lib/libcrypto.so.1.0.0: no version information available (required by wget)\n",
      "wget: /opt/quarantine/miniconda3/4.4.0/build/lib/libssl.so.1.0.0: no version information available (required by wget)\n",
      "wget: /opt/quarantine/miniconda3/4.4.0/build/lib/libssl.so.1.0.0: no version information available (required by wget)\n",
      "--2020-08-20 16:10:25--  https://ndownloader.figshare.com/files/9017983\n",
      "Resolving ndownloader.figshare.com (ndownloader.figshare.com)... 18.202.7.12, 63.32.181.108, 52.16.187.240, ...\n",
      "Connecting to ndownloader.figshare.com (ndownloader.figshare.com)|18.202.7.12|:443... connected.\n",
      "HTTP request sent, awaiting response... 302 Found\n",
      "Location: https://s3-eu-west-1.amazonaws.com/pfigshare-u-files/9017983/sherlock.h5 [following]\n",
      "--2020-08-20 16:10:33--  https://s3-eu-west-1.amazonaws.com/pfigshare-u-files/9017983/sherlock.h5\n",
      "Resolving s3-eu-west-1.amazonaws.com (s3-eu-west-1.amazonaws.com)... 52.218.24.195\n",
      "Connecting to s3-eu-west-1.amazonaws.com (s3-eu-west-1.amazonaws.com)|52.218.24.195|:443... connected.\n",
      "HTTP request sent, awaiting response... 200 OK\n",
      "Length: 18951840 (18M) [binary/octet-stream]\n",
      "Saving to: ‘sherlock.h5’\n",
      "\n",
      "sherlock.h5         100%[===================>]  18.07M  6.43MB/s    in 2.8s    \n",
      "\n",
      "2020-08-20 16:10:37 (6.43 MB/s) - ‘sherlock.h5’ saved [18951840/18951840]\n",
      "\n",
      "wget: /opt/quarantine/miniconda3/4.4.0/build/lib/libcrypto.so.1.0.0: no version information available (required by wget)\n",
      "wget: /opt/quarantine/miniconda3/4.4.0/build/lib/libssl.so.1.0.0: no version information available (required by wget)\n",
      "wget: /opt/quarantine/miniconda3/4.4.0/build/lib/libssl.so.1.0.0: no version information available (required by wget)\n",
      "--2020-08-20 16:10:38--  https://ndownloader.figshare.com/files/9055612\n",
      "Resolving ndownloader.figshare.com (ndownloader.figshare.com)... 63.32.181.108, 18.202.7.12, 34.242.50.74, ...\n",
      "Connecting to ndownloader.figshare.com (ndownloader.figshare.com)|63.32.181.108|:443... connected.\n",
      "HTTP request sent, awaiting response... 302 Found\n",
      "Location: https://s3-eu-west-1.amazonaws.com/pfigshare-u-files/9055612/AG_movie_1recall.h5 [following]\n",
      "--2020-08-20 16:10:39--  https://s3-eu-west-1.amazonaws.com/pfigshare-u-files/9055612/AG_movie_1recall.h5\n",
      "Resolving s3-eu-west-1.amazonaws.com (s3-eu-west-1.amazonaws.com)... 52.218.24.195\n",
      "Connecting to s3-eu-west-1.amazonaws.com (s3-eu-west-1.amazonaws.com)|52.218.24.195|:443... connected.\n",
      "HTTP request sent, awaiting response... 200 OK\n",
      "Length: 24892604 (24M) [binary/octet-stream]\n",
      "Saving to: ‘AG_movie_1recall.h5’\n",
      "\n",
      "AG_movie_1recall.h5 100%[===================>]  23.74M  4.91MB/s    in 14s     \n",
      "\n",
      "2020-08-20 16:10:53 (1.74 MB/s) - ‘AG_movie_1recall.h5’ saved [24892604/24892604]\n",
      "\n"
     ]
    }
   ],
   "source": [
    "# download the data\n",
    "\n",
    "!wget https://ndownloader.figshare.com/files/9017983 -O sherlock.h5\n",
    "!wget https://ndownloader.figshare.com/files/9055612 -O AG_movie_1recall.h5"
   ]
  },
  {
   "cell_type": "code",
   "execution_count": 8,
   "metadata": {},
   "outputs": [
    {
     "name": "stdout",
     "output_type": "stream",
     "text": [
      "(141, 1976, 17)\n"
     ]
    }
   ],
   "source": [
    "data = dd.io.load('sherlock.h5')\n",
    "\n",
    "bold = data['BOLD']\n",
    "coords = data['coords']\n",
    "human_bounds = data['human_bounds']\n",
    "\n",
    "print(bold.shape)\n",
    "np.save(\"sherlock\", bold)"
   ]
  },
  {
   "cell_type": "code",
   "execution_count": 12,
   "metadata": {},
   "outputs": [
    {
     "data": {
      "text/plain": [
       "dict_keys(['movie', 'movie_labels', 'recall', 'recall_labels'])"
      ]
     },
     "execution_count": 12,
     "metadata": {},
     "output_type": "execute_result"
    }
   ],
   "source": [
    "data = dd.io.load('AG_movie_1recall.h5')\n",
    "data.keys()"
   ]
  }
 ],
 "metadata": {
  "kernelspec": {
   "display_name": "Python 3",
   "language": "python",
   "name": "python3"
  },
  "language_info": {
   "codemirror_mode": {
    "name": "ipython",
    "version": 3
   },
   "file_extension": ".py",
   "mimetype": "text/x-python",
   "name": "python",
   "nbconvert_exporter": "python",
   "pygments_lexer": "ipython3",
   "version": "3.6.10"
  }
 },
 "nbformat": 4,
 "nbformat_minor": 4
}
